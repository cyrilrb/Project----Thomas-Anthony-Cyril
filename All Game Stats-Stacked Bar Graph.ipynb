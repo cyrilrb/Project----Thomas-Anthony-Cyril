{
 "cells": [
  {
   "cell_type": "code",
   "execution_count": 1,
   "metadata": {},
   "outputs": [],
   "source": [
    "#needed Modules\n",
    "import os\n",
    "import csv\n",
    "import pandas as pd\n",
    "import numpy as np\n",
    "import matplotlib.pyplot as plt\n",
    "from scipy.stats import linregress"
   ]
  },
  {
   "cell_type": "code",
   "execution_count": 2,
   "metadata": {},
   "outputs": [
    {
     "data": {
      "text/html": [
       "<div>\n",
       "<style scoped>\n",
       "    .dataframe tbody tr th:only-of-type {\n",
       "        vertical-align: middle;\n",
       "    }\n",
       "\n",
       "    .dataframe tbody tr th {\n",
       "        vertical-align: top;\n",
       "    }\n",
       "\n",
       "    .dataframe thead th {\n",
       "        text-align: right;\n",
       "    }\n",
       "</style>\n",
       "<table border=\"1\" class=\"dataframe\">\n",
       "  <thead>\n",
       "    <tr style=\"text-align: right;\">\n",
       "      <th></th>\n",
       "      <th>G</th>\n",
       "      <th>Date</th>\n",
       "      <th>Tm</th>\n",
       "      <th>X</th>\n",
       "      <th>Opp</th>\n",
       "      <th>Result</th>\n",
       "      <th>GS</th>\n",
       "      <th>MP</th>\n",
       "      <th>FG</th>\n",
       "      <th>FGA</th>\n",
       "      <th>...</th>\n",
       "      <th>TRB</th>\n",
       "      <th>AST</th>\n",
       "      <th>STL</th>\n",
       "      <th>BLK</th>\n",
       "      <th>TOV</th>\n",
       "      <th>PF</th>\n",
       "      <th>PTS</th>\n",
       "      <th>GmSc</th>\n",
       "      <th>Player</th>\n",
       "      <th>RSorPO</th>\n",
       "    </tr>\n",
       "  </thead>\n",
       "  <tbody>\n",
       "    <tr>\n",
       "      <th>0</th>\n",
       "      <td>1</td>\n",
       "      <td>1996-11-03</td>\n",
       "      <td>LAL</td>\n",
       "      <td>NaN</td>\n",
       "      <td>MIN</td>\n",
       "      <td>W</td>\n",
       "      <td>0</td>\n",
       "      <td>6:00</td>\n",
       "      <td>0.0</td>\n",
       "      <td>1.0</td>\n",
       "      <td>...</td>\n",
       "      <td>1</td>\n",
       "      <td>0</td>\n",
       "      <td>0.0</td>\n",
       "      <td>1.0</td>\n",
       "      <td>1</td>\n",
       "      <td>1</td>\n",
       "      <td>0.0</td>\n",
       "      <td>-1.1</td>\n",
       "      <td>Kobe Bryant</td>\n",
       "      <td>Regular Season</td>\n",
       "    </tr>\n",
       "    <tr>\n",
       "      <th>1</th>\n",
       "      <td>2</td>\n",
       "      <td>1996-11-05</td>\n",
       "      <td>LAL</td>\n",
       "      <td>@</td>\n",
       "      <td>NYK</td>\n",
       "      <td>W</td>\n",
       "      <td>0</td>\n",
       "      <td>3:00</td>\n",
       "      <td>0.0</td>\n",
       "      <td>1.0</td>\n",
       "      <td>...</td>\n",
       "      <td>0</td>\n",
       "      <td>0</td>\n",
       "      <td>0.0</td>\n",
       "      <td>0.0</td>\n",
       "      <td>1</td>\n",
       "      <td>0</td>\n",
       "      <td>1.0</td>\n",
       "      <td>-1.1</td>\n",
       "      <td>Kobe Bryant</td>\n",
       "      <td>Regular Season</td>\n",
       "    </tr>\n",
       "    <tr>\n",
       "      <th>2</th>\n",
       "      <td>3</td>\n",
       "      <td>1996-11-06</td>\n",
       "      <td>LAL</td>\n",
       "      <td>@</td>\n",
       "      <td>CHH</td>\n",
       "      <td>L</td>\n",
       "      <td>0</td>\n",
       "      <td>7:00</td>\n",
       "      <td>2.0</td>\n",
       "      <td>3.0</td>\n",
       "      <td>...</td>\n",
       "      <td>0</td>\n",
       "      <td>0</td>\n",
       "      <td>0.0</td>\n",
       "      <td>0.0</td>\n",
       "      <td>3</td>\n",
       "      <td>0</td>\n",
       "      <td>5.0</td>\n",
       "      <td>0.7</td>\n",
       "      <td>Kobe Bryant</td>\n",
       "      <td>Regular Season</td>\n",
       "    </tr>\n",
       "    <tr>\n",
       "      <th>3</th>\n",
       "      <td>4</td>\n",
       "      <td>1996-11-08</td>\n",
       "      <td>LAL</td>\n",
       "      <td>@</td>\n",
       "      <td>TOR</td>\n",
       "      <td>L</td>\n",
       "      <td>0</td>\n",
       "      <td>17:00</td>\n",
       "      <td>3.0</td>\n",
       "      <td>8.0</td>\n",
       "      <td>...</td>\n",
       "      <td>3</td>\n",
       "      <td>0</td>\n",
       "      <td>0.0</td>\n",
       "      <td>1.0</td>\n",
       "      <td>0</td>\n",
       "      <td>3</td>\n",
       "      <td>10.0</td>\n",
       "      <td>5.2</td>\n",
       "      <td>Kobe Bryant</td>\n",
       "      <td>Regular Season</td>\n",
       "    </tr>\n",
       "    <tr>\n",
       "      <th>4</th>\n",
       "      <td>5</td>\n",
       "      <td>1996-11-10</td>\n",
       "      <td>LAL</td>\n",
       "      <td>NaN</td>\n",
       "      <td>ATL</td>\n",
       "      <td>W</td>\n",
       "      <td>0</td>\n",
       "      <td>8:00</td>\n",
       "      <td>0.0</td>\n",
       "      <td>3.0</td>\n",
       "      <td>...</td>\n",
       "      <td>3</td>\n",
       "      <td>1</td>\n",
       "      <td>0.0</td>\n",
       "      <td>0.0</td>\n",
       "      <td>0</td>\n",
       "      <td>0</td>\n",
       "      <td>2.0</td>\n",
       "      <td>1.9</td>\n",
       "      <td>Kobe Bryant</td>\n",
       "      <td>Regular Season</td>\n",
       "    </tr>\n",
       "  </tbody>\n",
       "</table>\n",
       "<p>5 rows × 29 columns</p>\n",
       "</div>"
      ],
      "text/plain": [
       "   G        Date   Tm    X  Opp Result  GS     MP   FG  FGA  ...  TRB  AST  \\\n",
       "0  1  1996-11-03  LAL  NaN  MIN      W   0   6:00  0.0  1.0  ...    1    0   \n",
       "1  2  1996-11-05  LAL    @  NYK      W   0   3:00  0.0  1.0  ...    0    0   \n",
       "2  3  1996-11-06  LAL    @  CHH      L   0   7:00  2.0  3.0  ...    0    0   \n",
       "3  4  1996-11-08  LAL    @  TOR      L   0  17:00  3.0  8.0  ...    3    0   \n",
       "4  5  1996-11-10  LAL  NaN  ATL      W   0   8:00  0.0  3.0  ...    3    1   \n",
       "\n",
       "   STL  BLK  TOV  PF   PTS  GmSc       Player          RSorPO  \n",
       "0  0.0  1.0    1   1   0.0  -1.1  Kobe Bryant  Regular Season  \n",
       "1  0.0  0.0    1   0   1.0  -1.1  Kobe Bryant  Regular Season  \n",
       "2  0.0  0.0    3   0   5.0   0.7  Kobe Bryant  Regular Season  \n",
       "3  0.0  1.0    0   3  10.0   5.2  Kobe Bryant  Regular Season  \n",
       "4  0.0  0.0    0   0   2.0   1.9  Kobe Bryant  Regular Season  \n",
       "\n",
       "[5 rows x 29 columns]"
      ]
     },
     "execution_count": 2,
     "metadata": {},
     "output_type": "execute_result"
    }
   ],
   "source": [
    "#import the csv\n",
    "file_to_load = \"allgames_stats.csv\"\n",
    "\n",
    "# Read Purchasing File and store into Pandas data frame\n",
    "allgame_stat = pd.read_csv(file_to_load)\n",
    "allgame_stat.head()"
   ]
  },
  {
   "cell_type": "code",
   "execution_count": 3,
   "metadata": {},
   "outputs": [],
   "source": [
    "allgame_stat=allgame_stat.fillna(0)"
   ]
  },
  {
   "cell_type": "code",
   "execution_count": 4,
   "metadata": {},
   "outputs": [],
   "source": [
    "# allgame_stat.PTS.unique()"
   ]
  },
  {
   "cell_type": "code",
   "execution_count": 5,
   "metadata": {},
   "outputs": [],
   "source": [
    "allgame_stat[(\"PTS\")] = allgame_stat[(\"PTS\")].astype(int)\n",
    "\n",
    "# allgame_stat = allgame_stat.astype({'PTS': 'int32'})"
   ]
  },
  {
   "cell_type": "code",
   "execution_count": 6,
   "metadata": {},
   "outputs": [],
   "source": [
    "# allgame_stat.dtypes"
   ]
  },
  {
   "cell_type": "code",
   "execution_count": 7,
   "metadata": {},
   "outputs": [
    {
     "data": {
      "text/html": [
       "<div>\n",
       "<style scoped>\n",
       "    .dataframe tbody tr th:only-of-type {\n",
       "        vertical-align: middle;\n",
       "    }\n",
       "\n",
       "    .dataframe tbody tr th {\n",
       "        vertical-align: top;\n",
       "    }\n",
       "\n",
       "    .dataframe thead th {\n",
       "        text-align: right;\n",
       "    }\n",
       "</style>\n",
       "<table border=\"1\" class=\"dataframe\">\n",
       "  <thead>\n",
       "    <tr style=\"text-align: right;\">\n",
       "      <th></th>\n",
       "      <th>Date</th>\n",
       "      <th>Result</th>\n",
       "      <th>Player</th>\n",
       "      <th>RSorPO</th>\n",
       "    </tr>\n",
       "  </thead>\n",
       "  <tbody>\n",
       "    <tr>\n",
       "      <th>0</th>\n",
       "      <td>1996-11-03</td>\n",
       "      <td>W</td>\n",
       "      <td>Kobe Bryant</td>\n",
       "      <td>Regular Season</td>\n",
       "    </tr>\n",
       "    <tr>\n",
       "      <th>1</th>\n",
       "      <td>1996-11-05</td>\n",
       "      <td>W</td>\n",
       "      <td>Kobe Bryant</td>\n",
       "      <td>Regular Season</td>\n",
       "    </tr>\n",
       "    <tr>\n",
       "      <th>2</th>\n",
       "      <td>1996-11-06</td>\n",
       "      <td>L</td>\n",
       "      <td>Kobe Bryant</td>\n",
       "      <td>Regular Season</td>\n",
       "    </tr>\n",
       "    <tr>\n",
       "      <th>3</th>\n",
       "      <td>1996-11-08</td>\n",
       "      <td>L</td>\n",
       "      <td>Kobe Bryant</td>\n",
       "      <td>Regular Season</td>\n",
       "    </tr>\n",
       "    <tr>\n",
       "      <th>4</th>\n",
       "      <td>1996-11-10</td>\n",
       "      <td>W</td>\n",
       "      <td>Kobe Bryant</td>\n",
       "      <td>Regular Season</td>\n",
       "    </tr>\n",
       "    <tr>\n",
       "      <th>...</th>\n",
       "      <td>...</td>\n",
       "      <td>...</td>\n",
       "      <td>...</td>\n",
       "      <td>...</td>\n",
       "    </tr>\n",
       "    <tr>\n",
       "      <th>4249</th>\n",
       "      <td>1998-06-05</td>\n",
       "      <td>W</td>\n",
       "      <td>Michael Jordan</td>\n",
       "      <td>Playoffs</td>\n",
       "    </tr>\n",
       "    <tr>\n",
       "      <th>4250</th>\n",
       "      <td>1998-06-07</td>\n",
       "      <td>W</td>\n",
       "      <td>Michael Jordan</td>\n",
       "      <td>Playoffs</td>\n",
       "    </tr>\n",
       "    <tr>\n",
       "      <th>4251</th>\n",
       "      <td>1998-06-10</td>\n",
       "      <td>W</td>\n",
       "      <td>Michael Jordan</td>\n",
       "      <td>Playoffs</td>\n",
       "    </tr>\n",
       "    <tr>\n",
       "      <th>4252</th>\n",
       "      <td>1998-06-12</td>\n",
       "      <td>L</td>\n",
       "      <td>Michael Jordan</td>\n",
       "      <td>Playoffs</td>\n",
       "    </tr>\n",
       "    <tr>\n",
       "      <th>4253</th>\n",
       "      <td>1998-06-14</td>\n",
       "      <td>W</td>\n",
       "      <td>Michael Jordan</td>\n",
       "      <td>Playoffs</td>\n",
       "    </tr>\n",
       "  </tbody>\n",
       "</table>\n",
       "<p>4254 rows × 4 columns</p>\n",
       "</div>"
      ],
      "text/plain": [
       "            Date Result          Player          RSorPO\n",
       "0     1996-11-03      W     Kobe Bryant  Regular Season\n",
       "1     1996-11-05      W     Kobe Bryant  Regular Season\n",
       "2     1996-11-06      L     Kobe Bryant  Regular Season\n",
       "3     1996-11-08      L     Kobe Bryant  Regular Season\n",
       "4     1996-11-10      W     Kobe Bryant  Regular Season\n",
       "...          ...    ...             ...             ...\n",
       "4249  1998-06-05      W  Michael Jordan        Playoffs\n",
       "4250  1998-06-07      W  Michael Jordan        Playoffs\n",
       "4251  1998-06-10      W  Michael Jordan        Playoffs\n",
       "4252  1998-06-12      L  Michael Jordan        Playoffs\n",
       "4253  1998-06-14      W  Michael Jordan        Playoffs\n",
       "\n",
       "[4254 rows x 4 columns]"
      ]
     },
     "execution_count": 7,
     "metadata": {},
     "output_type": "execute_result"
    }
   ],
   "source": [
    "allgame_stat_filtered = allgame_stat.loc[:,[\n",
    "            \"Date\",\n",
    "            \"Result\",\n",
    "            \"Player\",\n",
    "            \"RSorPO\",]]\n",
    "allgame_stat_filtered"
   ]
  },
  {
   "cell_type": "code",
   "execution_count": 8,
   "metadata": {},
   "outputs": [],
   "source": [
    "#create dataframes based on player\n",
    "kobe_total = allgame_stat_filtered[(allgame_stat_filtered['Player']==\"Kobe Bryant\")]\n",
    "lebron_total = allgame_stat_filtered[(allgame_stat_filtered['Player']==\"Lebron James\")]\n",
    "jordan_total = allgame_stat_filtered[(allgame_stat_filtered['Player']==\"Michael Jordan\")]\n",
    "\n",
    "#regular season stats\n",
    "kobe_rs = kobe_total[(kobe_total['RSorPO']==\"Regular Season\")]\n",
    "lebron_rs = lebron_total[(lebron_total['RSorPO']==\"Regular Season\")]\n",
    "jordan_rs = jordan_total[(jordan_total['RSorPO']==\"Regular Season\")]\n",
    "\n",
    "#playoff stats\n",
    "kobe_po = kobe_total[(kobe_total['RSorPO']==\"Playoffs\")]\n",
    "lebron_po = lebron_total[(lebron_total['RSorPO']==\"Playoffs\")]\n",
    "jordan_po = jordan_total[(jordan_total['RSorPO']==\"Playoffs\")]"
   ]
  },
  {
   "cell_type": "code",
   "execution_count": 9,
   "metadata": {},
   "outputs": [
    {
     "name": "stdout",
     "output_type": "stream",
     "text": [
      "Kobe's winning percentage for his career during the regular season\n"
     ]
    },
    {
     "data": {
      "text/html": [
       "<div>\n",
       "<style scoped>\n",
       "    .dataframe tbody tr th:only-of-type {\n",
       "        vertical-align: middle;\n",
       "    }\n",
       "\n",
       "    .dataframe tbody tr th {\n",
       "        vertical-align: top;\n",
       "    }\n",
       "\n",
       "    .dataframe thead th {\n",
       "        text-align: right;\n",
       "    }\n",
       "</style>\n",
       "<table border=\"1\" class=\"dataframe\">\n",
       "  <thead>\n",
       "    <tr style=\"text-align: right;\">\n",
       "      <th></th>\n",
       "      <th>Kobe</th>\n",
       "    </tr>\n",
       "    <tr>\n",
       "      <th>Result</th>\n",
       "      <th></th>\n",
       "    </tr>\n",
       "  </thead>\n",
       "  <tbody>\n",
       "    <tr>\n",
       "      <th>W</th>\n",
       "      <td>836</td>\n",
       "    </tr>\n",
       "    <tr>\n",
       "      <th>L</th>\n",
       "      <td>510</td>\n",
       "    </tr>\n",
       "  </tbody>\n",
       "</table>\n",
       "</div>"
      ],
      "text/plain": [
       "        Kobe\n",
       "Result      \n",
       "W        836\n",
       "L        510"
      ]
     },
     "execution_count": 9,
     "metadata": {},
     "output_type": "execute_result"
    }
   ],
   "source": [
    "#Make a win to loss record for kobe in the regular season\n",
    "kobe_rs_mod = kobe_rs.groupby('Result')['Result'].agg(['count'])\n",
    "kobe_rs_record = kobe_rs_mod.sum()\n",
    "\n",
    "# kobe_rs_mod.insert(1, \"Percent\" , ((kobe_rs_mod['count']/kobe_rs_mod['count'].sum())*100).map(\"{:.2f} %\".format), True)\n",
    "kobe_rs_mod = kobe_rs_mod.reindex(index=['W','L'])\n",
    "kobe_rs_mod =kobe_rs_mod.rename(columns={\"count\":\"Kobe\", \"Percent\":\"Percentage of Players\"})\n",
    "print(\"Kobe's winning percentage for his career during the regular season\")\n",
    "kobe_rs_mod.head()\n"
   ]
  },
  {
   "cell_type": "code",
   "execution_count": 10,
   "metadata": {},
   "outputs": [
    {
     "name": "stdout",
     "output_type": "stream",
     "text": [
      "Kobe's winning percentage for his career during the playoffs\n"
     ]
    },
    {
     "data": {
      "text/html": [
       "<div>\n",
       "<style scoped>\n",
       "    .dataframe tbody tr th:only-of-type {\n",
       "        vertical-align: middle;\n",
       "    }\n",
       "\n",
       "    .dataframe tbody tr th {\n",
       "        vertical-align: top;\n",
       "    }\n",
       "\n",
       "    .dataframe thead th {\n",
       "        text-align: right;\n",
       "    }\n",
       "</style>\n",
       "<table border=\"1\" class=\"dataframe\">\n",
       "  <thead>\n",
       "    <tr style=\"text-align: right;\">\n",
       "      <th></th>\n",
       "      <th>Kobe</th>\n",
       "    </tr>\n",
       "    <tr>\n",
       "      <th>Result</th>\n",
       "      <th></th>\n",
       "    </tr>\n",
       "  </thead>\n",
       "  <tbody>\n",
       "    <tr>\n",
       "      <th>W</th>\n",
       "      <td>135</td>\n",
       "    </tr>\n",
       "    <tr>\n",
       "      <th>L</th>\n",
       "      <td>85</td>\n",
       "    </tr>\n",
       "  </tbody>\n",
       "</table>\n",
       "</div>"
      ],
      "text/plain": [
       "        Kobe\n",
       "Result      \n",
       "W        135\n",
       "L         85"
      ]
     },
     "execution_count": 10,
     "metadata": {},
     "output_type": "execute_result"
    }
   ],
   "source": [
    "#Make a win to loss record for kobe in the Playoffs\n",
    "kobe_po_mod = kobe_po.groupby('Result')['Result'].agg(['count'])\n",
    "kobe_po_record = kobe_po_mod.sum()\n",
    "\n",
    "# kobe_rs_mod.insert(1, \"Percent\" , ((kobe_rs_mod['count']/kobe_rs_mod['count'].sum())*100).map(\"{:.2f} %\".format), True)\n",
    "kobe_po_mod = kobe_po_mod.reindex(index=['W','L'])\n",
    "kobe_po_mod =kobe_po_mod.rename(columns={\"count\":\"Kobe\", \"Percent\":\"Percentage of Players\"})\n",
    "print(\"Kobe's winning percentage for his career during the playoffs\")\n",
    "kobe_po_mod.head()"
   ]
  },
  {
   "cell_type": "code",
   "execution_count": 11,
   "metadata": {},
   "outputs": [
    {
     "name": "stdout",
     "output_type": "stream",
     "text": [
      "Lebron's winning percentage for his career during the regular season\n"
     ]
    },
    {
     "data": {
      "text/html": [
       "<div>\n",
       "<style scoped>\n",
       "    .dataframe tbody tr th:only-of-type {\n",
       "        vertical-align: middle;\n",
       "    }\n",
       "\n",
       "    .dataframe tbody tr th {\n",
       "        vertical-align: top;\n",
       "    }\n",
       "\n",
       "    .dataframe thead th {\n",
       "        text-align: right;\n",
       "    }\n",
       "</style>\n",
       "<table border=\"1\" class=\"dataframe\">\n",
       "  <thead>\n",
       "    <tr style=\"text-align: right;\">\n",
       "      <th></th>\n",
       "      <th>Lebron</th>\n",
       "    </tr>\n",
       "    <tr>\n",
       "      <th>Result</th>\n",
       "      <th></th>\n",
       "    </tr>\n",
       "  </thead>\n",
       "  <tbody>\n",
       "    <tr>\n",
       "      <th>W</th>\n",
       "      <td>789</td>\n",
       "    </tr>\n",
       "    <tr>\n",
       "      <th>L</th>\n",
       "      <td>409</td>\n",
       "    </tr>\n",
       "  </tbody>\n",
       "</table>\n",
       "</div>"
      ],
      "text/plain": [
       "        Lebron\n",
       "Result        \n",
       "W          789\n",
       "L          409"
      ]
     },
     "execution_count": 11,
     "metadata": {},
     "output_type": "execute_result"
    }
   ],
   "source": [
    "#Make a win to loss record for lebron in the regular season\n",
    "lebron_rs_mod = lebron_rs.groupby('Result')['Result'].agg(['count'])\n",
    "lebron_rs_record = lebron_rs_mod.sum()\n",
    "\n",
    "# lebron_rs_mod.insert(1, \"Percent\" , ((lebron_rs_mod['count']/lebron_rs_mod['count'].sum())*100).map(\"{:.2f} %\".format), True)\n",
    "lebron_rs_mod = lebron_rs_mod.reindex(index=['W','L'])\n",
    "lebron_rs_mod =lebron_rs_mod.rename(columns={\"count\":\"Lebron\", \"Percent\":\"Percentage of Players\"})\n",
    "print(\"Lebron's winning percentage for his career during the regular season\")\n",
    "lebron_rs_mod.head()\n"
   ]
  },
  {
   "cell_type": "code",
   "execution_count": 12,
   "metadata": {},
   "outputs": [
    {
     "name": "stdout",
     "output_type": "stream",
     "text": [
      "Lebron's winning percentage for his career during the playoffs\n"
     ]
    },
    {
     "data": {
      "text/html": [
       "<div>\n",
       "<style scoped>\n",
       "    .dataframe tbody tr th:only-of-type {\n",
       "        vertical-align: middle;\n",
       "    }\n",
       "\n",
       "    .dataframe tbody tr th {\n",
       "        vertical-align: top;\n",
       "    }\n",
       "\n",
       "    .dataframe thead th {\n",
       "        text-align: right;\n",
       "    }\n",
       "</style>\n",
       "<table border=\"1\" class=\"dataframe\">\n",
       "  <thead>\n",
       "    <tr style=\"text-align: right;\">\n",
       "      <th></th>\n",
       "      <th>Lebron</th>\n",
       "    </tr>\n",
       "    <tr>\n",
       "      <th>Result</th>\n",
       "      <th></th>\n",
       "    </tr>\n",
       "  </thead>\n",
       "  <tbody>\n",
       "    <tr>\n",
       "      <th>W</th>\n",
       "      <td>156</td>\n",
       "    </tr>\n",
       "    <tr>\n",
       "      <th>L</th>\n",
       "      <td>83</td>\n",
       "    </tr>\n",
       "  </tbody>\n",
       "</table>\n",
       "</div>"
      ],
      "text/plain": [
       "        Lebron\n",
       "Result        \n",
       "W          156\n",
       "L           83"
      ]
     },
     "execution_count": 12,
     "metadata": {},
     "output_type": "execute_result"
    }
   ],
   "source": [
    "#Make a win to loss record for lebron in the playoffs\n",
    "lebron_po_mod = lebron_po.groupby('Result')['Result'].agg(['count'])\n",
    "lebron_po_record = lebron_po_mod.sum()\n",
    "\n",
    "# lebron_rs_mod.insert(1, \"Percent\" , ((lebron_rs_mod['count']/lebron_rs_mod['count'].sum())*100).map(\"{:.2f} %\".format), True)\n",
    "lebron_po_mod = lebron_po_mod.reindex(index=['W','L'])\n",
    "lebron_po_mod =lebron_po_mod.rename(columns={\"count\":\"Lebron\", \"Percent\":\"Percentage of Players\"})\n",
    "print(\"Lebron's winning percentage for his career during the playoffs\")\n",
    "lebron_po_mod.head()\n"
   ]
  },
  {
   "cell_type": "code",
   "execution_count": 13,
   "metadata": {},
   "outputs": [
    {
     "name": "stdout",
     "output_type": "stream",
     "text": [
      "Jordan's winning percentage for his career during the regular season\n"
     ]
    },
    {
     "data": {
      "text/html": [
       "<div>\n",
       "<style scoped>\n",
       "    .dataframe tbody tr th:only-of-type {\n",
       "        vertical-align: middle;\n",
       "    }\n",
       "\n",
       "    .dataframe tbody tr th {\n",
       "        vertical-align: top;\n",
       "    }\n",
       "\n",
       "    .dataframe thead th {\n",
       "        text-align: right;\n",
       "    }\n",
       "</style>\n",
       "<table border=\"1\" class=\"dataframe\">\n",
       "  <thead>\n",
       "    <tr style=\"text-align: right;\">\n",
       "      <th></th>\n",
       "      <th>Jordan</th>\n",
       "    </tr>\n",
       "    <tr>\n",
       "      <th>Result</th>\n",
       "      <th></th>\n",
       "    </tr>\n",
       "  </thead>\n",
       "  <tbody>\n",
       "    <tr>\n",
       "      <th>W</th>\n",
       "      <td>706</td>\n",
       "    </tr>\n",
       "    <tr>\n",
       "      <th>L</th>\n",
       "      <td>366</td>\n",
       "    </tr>\n",
       "  </tbody>\n",
       "</table>\n",
       "</div>"
      ],
      "text/plain": [
       "        Jordan\n",
       "Result        \n",
       "W          706\n",
       "L          366"
      ]
     },
     "execution_count": 13,
     "metadata": {},
     "output_type": "execute_result"
    }
   ],
   "source": [
    "#Make a win to loss record for lebron in the regular season\n",
    "jordan_rs_mod = jordan_rs.groupby('Result')['Result'].agg(['count'])\n",
    "jordan_rs_record = jordan_rs_mod.sum()\n",
    "\n",
    "# jordan_rs_mod.insert(1, \"Percent\" , ((jordan_rs_mod['count']/jordan_rs_mod['count'].sum())\n",
    "#                                      *100).map(\"{:.2f}\".format), True)\n",
    "                    \n",
    "jordan_rs_mod = jordan_rs_mod.reindex(index=['W','L'])\n",
    "jordan_rs_mod =jordan_rs_mod.rename(columns={\"count\":\"Jordan\"\n",
    "                                             , \"Percent\":\"Percentage of Wins (%)\"\n",
    "                                            })\n",
    "\n",
    "# jordan_rs_mod[\"Percent\":\"Percentage of Wins (%)\"] = jordan_rs_mod[\"Percent\":\"Percentage of Wins (%)\"].astype(str).astype(float)\n",
    "\n",
    "\n",
    "print(\"Jordan's winning percentage for his career during the regular season\")\n",
    "jordan_rs_mod\n",
    "\n"
   ]
  },
  {
   "cell_type": "code",
   "execution_count": 14,
   "metadata": {},
   "outputs": [
    {
     "name": "stdout",
     "output_type": "stream",
     "text": [
      "Jordan's winning percentage for his career during the playoffs\n"
     ]
    },
    {
     "data": {
      "text/html": [
       "<div>\n",
       "<style scoped>\n",
       "    .dataframe tbody tr th:only-of-type {\n",
       "        vertical-align: middle;\n",
       "    }\n",
       "\n",
       "    .dataframe tbody tr th {\n",
       "        vertical-align: top;\n",
       "    }\n",
       "\n",
       "    .dataframe thead th {\n",
       "        text-align: right;\n",
       "    }\n",
       "</style>\n",
       "<table border=\"1\" class=\"dataframe\">\n",
       "  <thead>\n",
       "    <tr style=\"text-align: right;\">\n",
       "      <th></th>\n",
       "      <th>Jordan</th>\n",
       "    </tr>\n",
       "    <tr>\n",
       "      <th>Result</th>\n",
       "      <th></th>\n",
       "    </tr>\n",
       "  </thead>\n",
       "  <tbody>\n",
       "    <tr>\n",
       "      <th>W</th>\n",
       "      <td>119</td>\n",
       "    </tr>\n",
       "    <tr>\n",
       "      <th>L</th>\n",
       "      <td>60</td>\n",
       "    </tr>\n",
       "  </tbody>\n",
       "</table>\n",
       "</div>"
      ],
      "text/plain": [
       "        Jordan\n",
       "Result        \n",
       "W          119\n",
       "L           60"
      ]
     },
     "execution_count": 14,
     "metadata": {},
     "output_type": "execute_result"
    }
   ],
   "source": [
    "#Make a win to loss record for lebron in the playoffs\n",
    "jordan_po_mod = jordan_po.groupby('Result')['Result'].agg(['count'])\n",
    "jordan_po_record = jordan_po_mod.sum()\n",
    "\n",
    "# jordan_rs_mod.insert(1, \"Percent\" , ((jordan_rs_mod['count']/jordan_rs_mod['count'].sum())\n",
    "#                                      *100).map(\"{:.2f}\".format), True)\n",
    "                    \n",
    "jordan_po_mod = jordan_po_mod.reindex(index=['W','L'])\n",
    "jordan_po_mod =jordan_po_mod.rename(columns={\"count\":\"Jordan\"\n",
    "                                             , \"Percent\":\"Percentage of Wins (%)\"\n",
    "                                            })\n",
    "\n",
    "# jordan_rs_mod[\"Percent\":\"Percentage of Wins (%)\"] = jordan_rs_mod[\"Percent\":\"Percentage of Wins (%)\"].astype(str).astype(float)\n",
    "\n",
    "\n",
    "print(\"Jordan's winning percentage for his career during the playoffs\")\n",
    "jordan_po_mod"
   ]
  },
  {
   "cell_type": "code",
   "execution_count": 15,
   "metadata": {},
   "outputs": [
    {
     "data": {
      "text/plain": [
       "Jordan    int64\n",
       "dtype: object"
      ]
     },
     "execution_count": 15,
     "metadata": {},
     "output_type": "execute_result"
    }
   ],
   "source": [
    "jordan_rs_mod.dtypes\n"
   ]
  },
  {
   "cell_type": "code",
   "execution_count": 16,
   "metadata": {},
   "outputs": [
    {
     "data": {
      "text/html": [
       "<div>\n",
       "<style scoped>\n",
       "    .dataframe tbody tr th:only-of-type {\n",
       "        vertical-align: middle;\n",
       "    }\n",
       "\n",
       "    .dataframe tbody tr th {\n",
       "        vertical-align: top;\n",
       "    }\n",
       "\n",
       "    .dataframe thead th {\n",
       "        text-align: right;\n",
       "    }\n",
       "</style>\n",
       "<table border=\"1\" class=\"dataframe\">\n",
       "  <thead>\n",
       "    <tr style=\"text-align: right;\">\n",
       "      <th></th>\n",
       "      <th>Jordan</th>\n",
       "      <th>Lebron</th>\n",
       "      <th>Kobe</th>\n",
       "    </tr>\n",
       "    <tr>\n",
       "      <th>Result</th>\n",
       "      <th></th>\n",
       "      <th></th>\n",
       "      <th></th>\n",
       "    </tr>\n",
       "  </thead>\n",
       "  <tbody>\n",
       "    <tr>\n",
       "      <th>W</th>\n",
       "      <td>706</td>\n",
       "      <td>789</td>\n",
       "      <td>836</td>\n",
       "    </tr>\n",
       "    <tr>\n",
       "      <th>L</th>\n",
       "      <td>366</td>\n",
       "      <td>409</td>\n",
       "      <td>510</td>\n",
       "    </tr>\n",
       "  </tbody>\n",
       "</table>\n",
       "</div>"
      ],
      "text/plain": [
       "        Jordan  Lebron  Kobe\n",
       "Result                      \n",
       "W          706     789   836\n",
       "L          366     409   510"
      ]
     },
     "execution_count": 16,
     "metadata": {},
     "output_type": "execute_result"
    }
   ],
   "source": [
    "merge_goat_rs = pd.merge(jordan_rs_mod,lebron_rs_mod, on='Result', how=\"left\")\n",
    "merge_goat_rs = pd.merge(merge_goat_rs,kobe_rs_mod, on='Result', how=\"left\")\n",
    "\n",
    "merge_goat_rs"
   ]
  },
  {
   "cell_type": "code",
   "execution_count": 17,
   "metadata": {},
   "outputs": [
    {
     "data": {
      "text/plain": [
       "Text(0, 0.5, 'Percent')"
      ]
     },
     "execution_count": 17,
     "metadata": {},
     "output_type": "execute_result"
    },
    {
     "data": {
      "image/png": "[encoded data removed]",
      "text/plain": [
       "<Figure size 432x288 with 1 Axes>"
      ]
     },
     "metadata": {
      "needs_background": "light"
     },
     "output_type": "display_data"
    }
   ],
   "source": [
    "merge_goat_rs.transpose().apply(lambda x: x*100/sum(x), axis=1).plot(kind=\"bar\", stacked=True)\n",
    "\n",
    "plt.xticks([0,1, 2], ['Jordan', 'Lebron', 'Kobe'],rotation=45)\n",
    "plt.title(\"Win/Loss Record for GOAT Candidiates (Regular Season)\")\n",
    "# plt.rcParams[\"figure.figsize\"] = (100,8)\n",
    "plt.ylabel(\"Percent\")\n",
    "\n"
   ]
  },
  {
   "cell_type": "code",
   "execution_count": 18,
   "metadata": {},
   "outputs": [
    {
     "data": {
      "text/html": [
       "<div>\n",
       "<style scoped>\n",
       "    .dataframe tbody tr th:only-of-type {\n",
       "        vertical-align: middle;\n",
       "    }\n",
       "\n",
       "    .dataframe tbody tr th {\n",
       "        vertical-align: top;\n",
       "    }\n",
       "\n",
       "    .dataframe thead th {\n",
       "        text-align: right;\n",
       "    }\n",
       "</style>\n",
       "<table border=\"1\" class=\"dataframe\">\n",
       "  <thead>\n",
       "    <tr style=\"text-align: right;\">\n",
       "      <th>Result</th>\n",
       "      <th>W</th>\n",
       "      <th>L</th>\n",
       "    </tr>\n",
       "  </thead>\n",
       "  <tbody>\n",
       "    <tr>\n",
       "      <th>Jordan</th>\n",
       "      <td>119</td>\n",
       "      <td>60</td>\n",
       "    </tr>\n",
       "    <tr>\n",
       "      <th>Lebron</th>\n",
       "      <td>156</td>\n",
       "      <td>83</td>\n",
       "    </tr>\n",
       "    <tr>\n",
       "      <th>Kobe</th>\n",
       "      <td>135</td>\n",
       "      <td>85</td>\n",
       "    </tr>\n",
       "  </tbody>\n",
       "</table>\n",
       "</div>"
      ],
      "text/plain": [
       "Result    W   L\n",
       "Jordan  119  60\n",
       "Lebron  156  83\n",
       "Kobe    135  85"
      ]
     },
     "execution_count": 18,
     "metadata": {},
     "output_type": "execute_result"
    }
   ],
   "source": [
    "merge_goat_po = pd.merge(jordan_po_mod,lebron_po_mod, on='Result', how=\"left\")\n",
    "merge_goat_po = pd.merge(merge_goat_po,kobe_po_mod, on='Result', how=\"left\")\n",
    "\n",
    "merge_goat_po.T"
   ]
  },
  {
   "cell_type": "code",
   "execution_count": 19,
   "metadata": {},
   "outputs": [
    {
     "data": {
      "text/plain": [
       "Text(0, 0.5, 'Percent')"
      ]
     },
     "execution_count": 19,
     "metadata": {},
     "output_type": "execute_result"
    },
    {
     "data": {
      "image/png": "[encoded data removed]",
      "text/plain": [
       "<Figure size 432x288 with 1 Axes>"
      ]
     },
     "metadata": {
      "needs_background": "light"
     },
     "output_type": "display_data"
    }
   ],
   "source": [
    "merge_goat_po.transpose().apply(lambda x: x*100/sum(x), axis=1).plot(kind=\"bar\", stacked=True)\n",
    "\n",
    "plt.xticks([0,1, 2], ['Jordan', 'Lebron', 'Kobe'],rotation=45)\n",
    "plt.title(\"Win/Loss Record for GOAT Candidiates (Playoffs)\")\n",
    "# plt.rcParams[\"figure.figsize\"] = (100,8)\n",
    "plt.ylabel(\"Percent\")\n",
    "\n"
   ]
  },
  {
   "cell_type": "code",
   "execution_count": 20,
   "metadata": {},
   "outputs": [],
   "source": [
    "total = merge_goat_po.T['W'] + merge_goat_po.T['L']\n",
    "rel = merge_goat_po.T.div(total, 0)*100"
   ]
  },
  {
   "cell_type": "code",
   "execution_count": 21,
   "metadata": {},
   "outputs": [
    {
     "data": {
      "image/png": "[encoded data removed]",
      "text/plain": [
       "<Figure size 432x288 with 1 Axes>"
      ]
     },
     "metadata": {
      "needs_background": "light"
     },
     "output_type": "display_data"
    }
   ],
   "source": [
    "wins = (rel['W']).to_numpy()\n",
    "loss = (rel['L']).to_numpy()\n",
    "goat = ['Jordan', 'Lebron', 'Kobe']\n",
    "\n",
    "width = 0.35   \n",
    "\n",
    "fig, ax = plt.subplots()\n",
    "\n",
    "ax.bar(goat, wins, width, label='W')\n",
    "ax.bar(goat, loss, width,\n",
    "       label='L')\n",
    "\n",
    "ax.set_ylabel('% Win')\n",
    "ax.set_title(\"Win/Loss Record for GOAT Candidiates (Playoffs)\")\n",
    "ax.legend()\n",
    "\n",
    "plt.show()"
   ]
  },
  {
   "cell_type": "code",
   "execution_count": 22,
   "metadata": {},
   "outputs": [
    {
     "data": {
      "text/html": [
       "<div>\n",
       "<style scoped>\n",
       "    .dataframe tbody tr th:only-of-type {\n",
       "        vertical-align: middle;\n",
       "    }\n",
       "\n",
       "    .dataframe tbody tr th {\n",
       "        vertical-align: top;\n",
       "    }\n",
       "\n",
       "    .dataframe thead th {\n",
       "        text-align: right;\n",
       "    }\n",
       "</style>\n",
       "<table border=\"1\" class=\"dataframe\">\n",
       "  <thead>\n",
       "    <tr style=\"text-align: right;\">\n",
       "      <th>Result</th>\n",
       "      <th>index</th>\n",
       "      <th>W</th>\n",
       "      <th>L</th>\n",
       "    </tr>\n",
       "  </thead>\n",
       "  <tbody>\n",
       "    <tr>\n",
       "      <th>0</th>\n",
       "      <td>Jordan</td>\n",
       "      <td>66.480447</td>\n",
       "      <td>33.519553</td>\n",
       "    </tr>\n",
       "    <tr>\n",
       "      <th>1</th>\n",
       "      <td>Lebron</td>\n",
       "      <td>65.271967</td>\n",
       "      <td>34.728033</td>\n",
       "    </tr>\n",
       "    <tr>\n",
       "      <th>2</th>\n",
       "      <td>Kobe</td>\n",
       "      <td>61.363636</td>\n",
       "      <td>38.636364</td>\n",
       "    </tr>\n",
       "  </tbody>\n",
       "</table>\n",
       "</div>"
      ],
      "text/plain": [
       "Result   index          W          L\n",
       "0       Jordan  66.480447  33.519553\n",
       "1       Lebron  65.271967  34.728033\n",
       "2         Kobe  61.363636  38.636364"
      ]
     },
     "execution_count": 22,
     "metadata": {},
     "output_type": "execute_result"
    }
   ],
   "source": [
    "rel=rel.reset_index()\n",
    "rel.head()"
   ]
  },
  {
   "cell_type": "code",
   "execution_count": 23,
   "metadata": {},
   "outputs": [
    {
     "data": {
      "text/plain": [
       "<AxesSubplot:title={'center':'Win/Loss Record for GOAT Candidiates (Playoffs)'}, ylabel='index'>"
      ]
     },
     "execution_count": 23,
     "metadata": {},
     "output_type": "execute_result"
    },
    {
     "data": {
      "image/png": "[encoded data removed]",
      "text/plain": [
       "<Figure size 432x288 with 1 Axes>"
      ]
     },
     "metadata": {
      "needs_background": "light"
     },
     "output_type": "display_data"
    }
   ],
   "source": [
    "rel.plot(\n",
    "    x = 'index',\n",
    "    kind = 'barh',\n",
    "    stacked = True,\n",
    "    title = 'Win/Loss Record for GOAT Candidiates (Playoffs)',\n",
    "    mark_right = True)\n"
   ]
  },
  {
   "cell_type": "code",
   "execution_count": 24,
   "metadata": {},
   "outputs": [
    {
     "data": {
      "image/png": "[encoded data removed]",
      "text/plain": [
       "<Figure size 432x288 with 1 Axes>"
      ]
     },
     "metadata": {
      "needs_background": "light"
     },
     "output_type": "display_data"
    }
   ],
   "source": [
    "rel.plot(\n",
    "    x = 'index',\n",
    "    kind = 'barh',\n",
    "    stacked = True,\n",
    "    title = '\"Win/Loss Record for GOAT Candidiates (Playoffs)\"',\n",
    "    mark_right = True)\n",
    "\n",
    "rel_total = rel[\"W\"] + rel[\"L\"]\n",
    "rel_rel = rel[rel.columns[1:]].div(rel_total, 0)*100\n",
    "\n",
    "plt.ylabel('')\n",
    "plt.xlabel('% Games')\n",
    "\n",
    "\n",
    "for n in rel_rel:\n",
    "    for i, (cs, ab, pc) in enumerate(zip(rel.iloc[:, 1:].cumsum(1)[n], \n",
    "                                         rel[n], rel_rel[n])):\n",
    "        plt.text(cs - ab / 2, i, str(np.round(pc, 1)) + '%', \n",
    "                 va = 'center', ha = 'center')\n",
    "        \n",
    "plt.savefig('Win_Loss_PO.png')    \n"
   ]
  },
  {
   "cell_type": "code",
   "execution_count": 28,
   "metadata": {},
   "outputs": [],
   "source": [
    "total2 = merge_goat_rs.T['W'] + merge_goat_rs.T['L']\n",
    "rel2 = merge_goat_rs.T.div(total2, 0)*100"
   ]
  },
  {
   "cell_type": "code",
   "execution_count": 29,
   "metadata": {},
   "outputs": [
    {
     "data": {
      "text/html": [
       "<div>\n",
       "<style scoped>\n",
       "    .dataframe tbody tr th:only-of-type {\n",
       "        vertical-align: middle;\n",
       "    }\n",
       "\n",
       "    .dataframe tbody tr th {\n",
       "        vertical-align: top;\n",
       "    }\n",
       "\n",
       "    .dataframe thead th {\n",
       "        text-align: right;\n",
       "    }\n",
       "</style>\n",
       "<table border=\"1\" class=\"dataframe\">\n",
       "  <thead>\n",
       "    <tr style=\"text-align: right;\">\n",
       "      <th>Result</th>\n",
       "      <th>index</th>\n",
       "      <th>W</th>\n",
       "      <th>L</th>\n",
       "    </tr>\n",
       "  </thead>\n",
       "  <tbody>\n",
       "    <tr>\n",
       "      <th>0</th>\n",
       "      <td>Jordan</td>\n",
       "      <td>65.858209</td>\n",
       "      <td>34.141791</td>\n",
       "    </tr>\n",
       "    <tr>\n",
       "      <th>1</th>\n",
       "      <td>Lebron</td>\n",
       "      <td>65.859766</td>\n",
       "      <td>34.140234</td>\n",
       "    </tr>\n",
       "    <tr>\n",
       "      <th>2</th>\n",
       "      <td>Kobe</td>\n",
       "      <td>62.109955</td>\n",
       "      <td>37.890045</td>\n",
       "    </tr>\n",
       "  </tbody>\n",
       "</table>\n",
       "</div>"
      ],
      "text/plain": [
       "Result   index          W          L\n",
       "0       Jordan  65.858209  34.141791\n",
       "1       Lebron  65.859766  34.140234\n",
       "2         Kobe  62.109955  37.890045"
      ]
     },
     "execution_count": 29,
     "metadata": {},
     "output_type": "execute_result"
    }
   ],
   "source": [
    "rel2=rel2.reset_index()\n",
    "rel2.head()"
   ]
  },
  {
   "cell_type": "code",
   "execution_count": 30,
   "metadata": {},
   "outputs": [
    {
     "data": {
      "image/png": "[encoded data removed]",
      "text/plain": [
       "<Figure size 432x288 with 1 Axes>"
      ]
     },
     "metadata": {
      "needs_background": "light"
     },
     "output_type": "display_data"
    }
   ],
   "source": [
    "rel2.plot(\n",
    "    x = 'index',\n",
    "    kind = 'barh',\n",
    "    stacked = True,\n",
    "    title = '\"Win/Loss Record for GOAT Candidiates (Regular Season)\"',\n",
    "    mark_right = True)\n",
    "\n",
    "rel2_total = rel2[\"W\"] + rel2[\"L\"]\n",
    "rel2_rel = rel2[rel2.columns[1:]].div(rel2_total, 0)*100\n",
    "\n",
    "plt.ylabel('')\n",
    "plt.xlabel('% Games')\n",
    "\n",
    "\n",
    "for n in rel2_rel:\n",
    "    for i, (cs, ab, pc) in enumerate(zip(rel2.iloc[:, 1:].cumsum(1)[n], \n",
    "                                         rel2[n], rel2_rel[n])):\n",
    "        plt.text(cs - ab / 2, i, str(np.round(pc, 1)) + '%', \n",
    "                 va = 'center', ha = 'center')\n",
    "        \n",
    "        \n",
    "plt.savefig('Win_Loss_RS.png')\n",
    "        "
   ]
  },
  {
   "cell_type": "code",
   "execution_count": null,
   "metadata": {},
   "outputs": [],
   "source": []
  }
 ],
 "metadata": {
  "kernelspec": {
   "display_name": "Python 3",
   "language": "python",
   "name": "python3"
  },
  "language_info": {
   "codemirror_mode": {
    "name": "ipython",
    "version": 3
   },
   "file_extension": ".py",
   "mimetype": "text/x-python",
   "name": "python",
   "nbconvert_exporter": "python",
   "pygments_lexer": "ipython3",
   "version": "3.8.5"
  }
 },
 "nbformat": 4,
 "nbformat_minor": 4
}
